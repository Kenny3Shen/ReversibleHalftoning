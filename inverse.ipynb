{
 "cells": [
  {
   "cell_type": "code",
   "execution_count": 1,
   "id": "initial_id",
   "metadata": {
    "collapsed": true,
    "ExecuteTime": {
     "end_time": "2023-11-21T17:50:46.076737200Z",
     "start_time": "2023-11-21T17:50:46.061139300Z"
    }
   },
   "outputs": [],
   "source": [
    "import os\n",
    "from PIL import Image\n",
    "data_dir = './lfw-deepfunneled'"
   ]
  },
  {
   "cell_type": "code",
   "execution_count": 2,
   "outputs": [],
   "source": [
    "for person in os.listdir(data_dir):\n",
    "    for img in os.listdir(os.path.join(data_dir, person)):\n",
    "        img_path = os.path.join(data_dir, person, img)\n",
    "        img = Image.open(img_path).convert('1').convert('RGB')\n",
    "        img.save(img_path)"
   ],
   "metadata": {
    "collapsed": false,
    "ExecuteTime": {
     "end_time": "2023-11-21T16:01:46.762096300Z",
     "start_time": "2023-11-21T16:01:11.980611700Z"
    }
   },
   "id": "db4011e10579954b"
  },
  {
   "cell_type": "code",
   "execution_count": 3,
   "outputs": [
    {
     "name": "stderr",
     "output_type": "stream",
     "text": [
      "100%|██████████| 5363/5363 [3:58:06<00:00,  2.66s/it]  \n"
     ]
    }
   ],
   "source": [
    "import os\n",
    "import subprocess\n",
    "from tqdm import tqdm\n",
    "for person in tqdm(os.listdir(data_dir)[386:]):\n",
    "    img = os.listdir(os.path.join(data_dir, person))\n",
    "    command = f\"python inference.py --model checkpoints/model_best.pth.tar --data_dir ./lfw-deepfunneled/{person} --save_dir ./lfw-re/{person} --decoding\"\n",
    "    process = subprocess.Popen(command, shell=True, stdout=subprocess.PIPE)\n",
    "    try:\n",
    "        process.wait(20)\n",
    "    except subprocess.TimeoutExpired:\n",
    "        process.kill()\n",
    "    #print(process.returncode) "
   ],
   "metadata": {
    "collapsed": false,
    "ExecuteTime": {
     "end_time": "2023-11-21T21:50:32.534634400Z",
     "start_time": "2023-11-21T17:52:26.043031100Z"
    }
   },
   "id": "3b69914a1a29eb09"
  },
  {
   "cell_type": "code",
   "execution_count": null,
   "outputs": [],
   "source": [
    "370"
   ],
   "metadata": {
    "collapsed": false
   },
   "id": "217e1884faeab680"
  }
 ],
 "metadata": {
  "kernelspec": {
   "display_name": "Python 3",
   "language": "python",
   "name": "python3"
  },
  "language_info": {
   "codemirror_mode": {
    "name": "ipython",
    "version": 2
   },
   "file_extension": ".py",
   "mimetype": "text/x-python",
   "name": "python",
   "nbconvert_exporter": "python",
   "pygments_lexer": "ipython2",
   "version": "2.7.6"
  }
 },
 "nbformat": 4,
 "nbformat_minor": 5
}
