{
 "cells": [
  {
   "cell_type": "code",
   "id": "initial_id",
   "metadata": {
    "collapsed": true,
    "ExecuteTime": {
     "end_time": "2024-06-11T09:41:38.949653Z",
     "start_time": "2024-06-11T09:41:38.075241Z"
    }
   },
   "source": [
    "import argparse\n",
    "import os\n",
    "from collections import OrderedDict\n",
    "from glob import glob\n",
    "from os.path import join\n",
    "\n",
    "import cv2\n",
    "import torch\n",
    "import torch.nn.functional as F\n",
    "\n",
    "from model.model import Quantize\n",
    "from model.model import ResHalf\n",
    "from utils import util\n",
    "\n",
    "\n",
    "class Inferencer:\n",
    "    def __init__(self, checkpoint_path, model, use_cuda=False, multi_gpu=False):\n",
    "        self.checkpoint = torch.load(checkpoint_path, map_location=torch.device('cpu'))\n",
    "        self.use_cuda = use_cuda\n",
    "        self.model = model.eval()\n",
    "        if multi_gpu:\n",
    "            self.model = torch.nn.DataParallel(self.model)\n",
    "            state_dict = self.checkpoint['state_dict']\n",
    "        else:\n",
    "            # remove keyword \"module\" in the state_dict\n",
    "            state_dict = OrderedDict()\n",
    "            for k, v in self.checkpoint['state_dict'].items():\n",
    "                name = k[7:]\n",
    "                state_dict[name] = v\n",
    "        if self.use_cuda:\n",
    "            self.model = self.model.cuda()\n",
    "        self.model.load_state_dict(state_dict)\n",
    "\n",
    "    def __call__(self, input_img, decoding_only=False):\n",
    "        # 禁用梯度计算\n",
    "        with torch.no_grad():\n",
    "            scale = 8  # 定义缩放因子\n",
    "            _, _, H, W = input_img.shape  # 获取输入图像的高度和宽度\n",
    "            # 如果高度或宽度不能被缩放因子整除，就进行反射填充\n",
    "            if H % scale != 0 or W % scale != 0:\n",
    "                input_img = F.pad(input_img, [0, scale - W % scale, 0, scale - H % scale], mode='reflect')\n",
    "            if self.use_cuda:\n",
    "                input_img = input_img.cuda()\n",
    "            if decoding_only:\n",
    "                # 调用self.model进行图像解码\n",
    "                # model=ResHalf(train=False)\n",
    "                # print(len(input_img))\n",
    "                resColor = self.model(input_img, decoding_only)\n",
    "                # print(type(resColor))\n",
    "                # 如果之前进行了填充，将结果裁剪回原始图像大小\n",
    "                if H % scale != 0 or W % scale != 0:\n",
    "                    resColor = resColor[:, :, :H, :W]\n",
    "                # 返回逆半调图像\n",
    "                return resColor\n",
    "            else:\n",
    "                # 调用self.model进行图像处理，获取两个结果：resHalftone和resColor\n",
    "                resHalftone, resColor = self.model(input_img, decoding_only)\n",
    "                # 对resHalftone进行量化操作\n",
    "                # Q:为什么在 ResHalf 量化过了这里又进行一次量化\n",
    "                resHalftone = Quantize.apply((resHalftone + 1.0) * 0.5) * 2.0 - 1.\n",
    "                # 如果之前进行了填充，将结果裁剪回原始图像大小\n",
    "                if H % scale != 0 or W % scale != 0:\n",
    "                    resHalftone = resHalftone[:, :, :H, :W]\n",
    "                    resColor = resColor[:, :, :H, :W]\n",
    "                # 返回半调图像和逆半调图像\n",
    "                return resHalftone, resColor"
   ],
   "outputs": [],
   "execution_count": 1
  },
  {
   "metadata": {
    "ExecuteTime": {
     "end_time": "2024-06-11T09:45:41.148342Z",
     "start_time": "2024-06-11T09:45:29.419014Z"
    }
   },
   "cell_type": "code",
   "source": [
    "# Define the variables that were previously command line arguments\n",
    "model_path = \"checkpoints/model_best.pth.tar\"\n",
    "decoding = False  # 仅逆半调\n",
    "data_dir = \"./test_imgs\" # 放入测试图片的文件夹（连续调图像）\n",
    "save_dir = \"./result\" # 保存结果的文件夹，包括半调与逆半调图像\n",
    "\n",
    "# Continue with the rest of the code\n",
    "data_dir = os.path.join(data_dir)\n",
    "save_dir = os.path.join(save_dir)\n",
    "invhalfer = Inferencer(\n",
    "    checkpoint_path=model_path,\n",
    "    model=ResHalf(train=False)\n",
    ")\n",
    "util.ensure_dir(save_dir)\n",
    "test_imgs = glob(join(data_dir, '*.*g'))\n",
    "print('------loaded %d images.' % len(test_imgs))\n",
    "for img in test_imgs:\n",
    "    print('[*] processing %s ...' % img)\n",
    "    (name, suffix) = img.split('/')[-1].split('.')\n",
    "    if decoding:\n",
    "        input_img = cv2.imread(img, flags=cv2.IMREAD_GRAYSCALE) / 127.5 - 1.\n",
    "        print(input_img.shape)\n",
    "        c = invhalfer(util.img2tensor(input_img), decoding_only=True)\n",
    "        c = util.tensor2img(c / 2. + 0.5) * 255.\n",
    "        cv2.imwrite(join(save_dir, f'{name}.{suffix}'), c)\n",
    "    else:\n",
    "        input_img = cv2.imread(img, flags=cv2.IMREAD_COLOR) / 127.5 - 1.\n",
    "        h, c = invhalfer(util.img2tensor(input_img), decoding_only=False)\n",
    "        h = util.tensor2img(h / 2. + 0.5) * 255.\n",
    "        c = util.tensor2img(c / 2. + 0.5) * 255.\n",
    "        cv2.imwrite(join(save_dir, f'halftone_{name}.{suffix}'), h)\n",
    "        cv2.imwrite(join(save_dir, f'restored_{name}.{suffix}'), c)"
   ],
   "id": "b5f75ab2d69feeaa",
   "outputs": [
    {
     "name": "stdout",
     "output_type": "stream",
     "text": [
      "------loaded 8 images.\n",
      "[*] processing ./test_imgs/017.png ...\n",
      "[*] processing ./test_imgs/027.png ...\n",
      "[*] processing ./test_imgs/037.png ...\n",
      "[*] processing ./test_imgs/1.jpg ...\n",
      "[*] processing ./test_imgs/2009_001468.png ...\n"
     ]
    },
    {
     "name": "stderr",
     "output_type": "stream",
     "text": [
      "libpng warning: iCCP: known incorrect sRGB profile\n"
     ]
    },
    {
     "name": "stdout",
     "output_type": "stream",
     "text": [
      "[*] processing ./test_imgs/dog.png ...\n",
      "[*] processing ./test_imgs/klee.png ...\n",
      "[*] processing ./test_imgs/paimoon.png ...\n"
     ]
    }
   ],
   "execution_count": 3
  },
  {
   "metadata": {},
   "cell_type": "code",
   "outputs": [],
   "execution_count": null,
   "source": "",
   "id": "596e6063aedf8b6b"
  }
 ],
 "metadata": {
  "kernelspec": {
   "display_name": "Python 3",
   "language": "python",
   "name": "python3"
  },
  "language_info": {
   "codemirror_mode": {
    "name": "ipython",
    "version": 2
   },
   "file_extension": ".py",
   "mimetype": "text/x-python",
   "name": "python",
   "nbconvert_exporter": "python",
   "pygments_lexer": "ipython2",
   "version": "2.7.6"
  }
 },
 "nbformat": 4,
 "nbformat_minor": 5
}
